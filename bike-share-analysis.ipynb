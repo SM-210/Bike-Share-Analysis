{
 "cells": [
  {
   "cell_type": "markdown",
   "id": "2eecccff",
   "metadata": {
    "papermill": {
     "duration": 0.003236,
     "end_time": "2025-06-13T00:10:54.736332",
     "exception": false,
     "start_time": "2025-06-13T00:10:54.733096",
     "status": "completed"
    },
    "tags": []
   },
   "source": [
    "# 🚲 Divvy Bike Share Analysis (2021)\n",
    "This analysis explores Divvy bike-sharing data from January to December 2021 to uncover trends in ride behavior between casual and member users.\n",
    "\n",
    "It is completed as part of the **Google Data Analytics Capstone Project**.\n",
    "\n",
    "### Objectives:\n",
    "- Compare usage patterns between casual and member riders\n",
    "- Identify peak times and durations\n",
    "- Recommend business strategies based on data insights\n"
   ]
  },
  {
   "cell_type": "code",
   "execution_count": 1,
   "id": "eb0c03fa",
   "metadata": {
    "execution": {
     "iopub.execute_input": "2025-06-13T00:10:54.749140Z",
     "iopub.status.busy": "2025-06-13T00:10:54.746631Z",
     "iopub.status.idle": "2025-06-13T00:11:39.409975Z",
     "shell.execute_reply": "2025-06-13T00:11:39.407865Z"
    },
    "papermill": {
     "duration": 44.675755,
     "end_time": "2025-06-13T00:11:39.415365",
     "exception": false,
     "start_time": "2025-06-13T00:10:54.739610",
     "status": "completed"
    },
    "tags": []
   },
   "outputs": [
    {
     "name": "stderr",
     "output_type": "stream",
     "text": [
      "── \u001b[1mAttaching core tidyverse packages\u001b[22m ──────────────────────── tidyverse 2.0.0 ──\n",
      "\u001b[32m✔\u001b[39m \u001b[34mdplyr    \u001b[39m 1.1.4     \u001b[32m✔\u001b[39m \u001b[34mreadr    \u001b[39m 2.1.5\n",
      "\u001b[32m✔\u001b[39m \u001b[34mforcats  \u001b[39m 1.0.0     \u001b[32m✔\u001b[39m \u001b[34mstringr  \u001b[39m 1.5.1\n",
      "\u001b[32m✔\u001b[39m \u001b[34mggplot2  \u001b[39m 3.5.1     \u001b[32m✔\u001b[39m \u001b[34mtibble   \u001b[39m 3.2.1\n",
      "\u001b[32m✔\u001b[39m \u001b[34mlubridate\u001b[39m 1.9.3     \u001b[32m✔\u001b[39m \u001b[34mtidyr    \u001b[39m 1.3.1\n",
      "\u001b[32m✔\u001b[39m \u001b[34mpurrr    \u001b[39m 1.0.2     \n"
     ]
    },
    {
     "name": "stderr",
     "output_type": "stream",
     "text": [
      "── \u001b[1mConflicts\u001b[22m ────────────────────────────────────────── tidyverse_conflicts() ──\n",
      "\u001b[31m✖\u001b[39m \u001b[34mdplyr\u001b[39m::\u001b[32mfilter()\u001b[39m masks \u001b[34mstats\u001b[39m::filter()\n",
      "\u001b[31m✖\u001b[39m \u001b[34mdplyr\u001b[39m::\u001b[32mlag()\u001b[39m    masks \u001b[34mstats\u001b[39m::lag()\n",
      "\u001b[36mℹ\u001b[39m Use the conflicted package (\u001b[3m\u001b[34m<http://conflicted.r-lib.org/>\u001b[39m\u001b[23m) to force all conflicts to become errors\n"
     ]
    },
    {
     "name": "stderr",
     "output_type": "stream",
     "text": [
      "\n",
      "Attaching package: ‘janitor’\n",
      "\n",
      "\n"
     ]
    },
    {
     "name": "stderr",
     "output_type": "stream",
     "text": [
      "The following objects are masked from ‘package:stats’:\n",
      "\n",
      "    chisq.test, fisher.test\n",
      "\n",
      "\n"
     ]
    },
    {
     "name": "stderr",
     "output_type": "stream",
     "text": [
      "\u001b[1mRows: \u001b[22m\u001b[34m131573\u001b[39m \u001b[1mColumns: \u001b[22m\u001b[34m13\u001b[39m\n"
     ]
    },
    {
     "name": "stderr",
     "output_type": "stream",
     "text": [
      "\u001b[36m──\u001b[39m \u001b[1mColumn specification\u001b[22m \u001b[36m────────────────────────────────────────────────────────\u001b[39m\n",
      "\u001b[1mDelimiter:\u001b[22m \",\"\n",
      "\u001b[31mchr\u001b[39m  (7): ride_id, rideable_type, start_station_name, start_station_id, end_...\n",
      "\u001b[32mdbl\u001b[39m  (4): start_lat, start_lng, end_lat, end_lng\n",
      "\u001b[34mdttm\u001b[39m (2): started_at, ended_at\n"
     ]
    },
    {
     "name": "stderr",
     "output_type": "stream",
     "text": [
      "\n",
      "\u001b[36mℹ\u001b[39m Use `spec()` to retrieve the full column specification for this data.\n",
      "\u001b[36mℹ\u001b[39m Specify the column types or set `show_col_types = FALSE` to quiet this message.\n"
     ]
    },
    {
     "name": "stderr",
     "output_type": "stream",
     "text": [
      "\u001b[1mRows: \u001b[22m\u001b[34m96834\u001b[39m \u001b[1mColumns: \u001b[22m\u001b[34m13\u001b[39m\n"
     ]
    },
    {
     "name": "stderr",
     "output_type": "stream",
     "text": [
      "\u001b[36m──\u001b[39m \u001b[1mColumn specification\u001b[22m \u001b[36m────────────────────────────────────────────────────────\u001b[39m\n",
      "\u001b[1mDelimiter:\u001b[22m \",\"\n",
      "\u001b[31mchr\u001b[39m  (7): ride_id, rideable_type, start_station_name, start_station_id, end_...\n",
      "\u001b[32mdbl\u001b[39m  (4): start_lat, start_lng, end_lat, end_lng\n",
      "\u001b[34mdttm\u001b[39m (2): started_at, ended_at\n"
     ]
    },
    {
     "name": "stderr",
     "output_type": "stream",
     "text": [
      "\n",
      "\u001b[36mℹ\u001b[39m Use `spec()` to retrieve the full column specification for this data.\n",
      "\u001b[36mℹ\u001b[39m Specify the column types or set `show_col_types = FALSE` to quiet this message.\n"
     ]
    },
    {
     "name": "stderr",
     "output_type": "stream",
     "text": [
      "\u001b[1mRows: \u001b[22m\u001b[34m49622\u001b[39m \u001b[1mColumns: \u001b[22m\u001b[34m13\u001b[39m\n"
     ]
    },
    {
     "name": "stderr",
     "output_type": "stream",
     "text": [
      "\u001b[36m──\u001b[39m \u001b[1mColumn specification\u001b[22m \u001b[36m────────────────────────────────────────────────────────\u001b[39m\n",
      "\u001b[1mDelimiter:\u001b[22m \",\"\n",
      "\u001b[31mchr\u001b[39m  (7): ride_id, rideable_type, start_station_name, start_station_id, end_...\n",
      "\u001b[32mdbl\u001b[39m  (4): start_lat, start_lng, end_lat, end_lng\n",
      "\u001b[34mdttm\u001b[39m (2): started_at, ended_at\n"
     ]
    },
    {
     "name": "stderr",
     "output_type": "stream",
     "text": [
      "\n",
      "\u001b[36mℹ\u001b[39m Use `spec()` to retrieve the full column specification for this data.\n",
      "\u001b[36mℹ\u001b[39m Specify the column types or set `show_col_types = FALSE` to quiet this message.\n"
     ]
    },
    {
     "name": "stderr",
     "output_type": "stream",
     "text": [
      "\u001b[1mRows: \u001b[22m\u001b[34m228496\u001b[39m \u001b[1mColumns: \u001b[22m\u001b[34m13\u001b[39m\n"
     ]
    },
    {
     "name": "stderr",
     "output_type": "stream",
     "text": [
      "\u001b[36m──\u001b[39m \u001b[1mColumn specification\u001b[22m \u001b[36m────────────────────────────────────────────────────────\u001b[39m\n",
      "\u001b[1mDelimiter:\u001b[22m \",\"\n",
      "\u001b[31mchr\u001b[39m  (7): ride_id, rideable_type, start_station_name, start_station_id, end_...\n",
      "\u001b[32mdbl\u001b[39m  (4): start_lat, start_lng, end_lat, end_lng\n",
      "\u001b[34mdttm\u001b[39m (2): started_at, ended_at\n"
     ]
    },
    {
     "name": "stderr",
     "output_type": "stream",
     "text": [
      "\n",
      "\u001b[36mℹ\u001b[39m Use `spec()` to retrieve the full column specification for this data.\n",
      "\u001b[36mℹ\u001b[39m Specify the column types or set `show_col_types = FALSE` to quiet this message.\n"
     ]
    },
    {
     "name": "stderr",
     "output_type": "stream",
     "text": [
      "\u001b[1mRows: \u001b[22m\u001b[34m337230\u001b[39m \u001b[1mColumns: \u001b[22m\u001b[34m13\u001b[39m\n"
     ]
    },
    {
     "name": "stderr",
     "output_type": "stream",
     "text": [
      "\u001b[36m──\u001b[39m \u001b[1mColumn specification\u001b[22m \u001b[36m────────────────────────────────────────────────────────\u001b[39m\n",
      "\u001b[1mDelimiter:\u001b[22m \",\"\n",
      "\u001b[31mchr\u001b[39m  (7): ride_id, rideable_type, start_station_name, start_station_id, end_...\n",
      "\u001b[32mdbl\u001b[39m  (4): start_lat, start_lng, end_lat, end_lng\n",
      "\u001b[34mdttm\u001b[39m (2): started_at, ended_at\n"
     ]
    },
    {
     "name": "stderr",
     "output_type": "stream",
     "text": [
      "\n",
      "\u001b[36mℹ\u001b[39m Use `spec()` to retrieve the full column specification for this data.\n",
      "\u001b[36mℹ\u001b[39m Specify the column types or set `show_col_types = FALSE` to quiet this message.\n"
     ]
    },
    {
     "name": "stderr",
     "output_type": "stream",
     "text": [
      "\u001b[1mRows: \u001b[22m\u001b[34m531633\u001b[39m \u001b[1mColumns: \u001b[22m\u001b[34m13\u001b[39m\n"
     ]
    },
    {
     "name": "stderr",
     "output_type": "stream",
     "text": [
      "\u001b[36m──\u001b[39m \u001b[1mColumn specification\u001b[22m \u001b[36m────────────────────────────────────────────────────────\u001b[39m\n",
      "\u001b[1mDelimiter:\u001b[22m \",\"\n",
      "\u001b[31mchr\u001b[39m  (7): ride_id, rideable_type, start_station_name, start_station_id, end_...\n",
      "\u001b[32mdbl\u001b[39m  (4): start_lat, start_lng, end_lat, end_lng\n",
      "\u001b[34mdttm\u001b[39m (2): started_at, ended_at\n"
     ]
    },
    {
     "name": "stderr",
     "output_type": "stream",
     "text": [
      "\n",
      "\u001b[36mℹ\u001b[39m Use `spec()` to retrieve the full column specification for this data.\n",
      "\u001b[36mℹ\u001b[39m Specify the column types or set `show_col_types = FALSE` to quiet this message.\n"
     ]
    },
    {
     "name": "stderr",
     "output_type": "stream",
     "text": [
      "\u001b[1mRows: \u001b[22m\u001b[34m729595\u001b[39m \u001b[1mColumns: \u001b[22m\u001b[34m13\u001b[39m\n"
     ]
    },
    {
     "name": "stderr",
     "output_type": "stream",
     "text": [
      "\u001b[36m──\u001b[39m \u001b[1mColumn specification\u001b[22m \u001b[36m────────────────────────────────────────────────────────\u001b[39m\n",
      "\u001b[1mDelimiter:\u001b[22m \",\"\n",
      "\u001b[31mchr\u001b[39m  (7): ride_id, rideable_type, start_station_name, start_station_id, end_...\n",
      "\u001b[32mdbl\u001b[39m  (4): start_lat, start_lng, end_lat, end_lng\n",
      "\u001b[34mdttm\u001b[39m (2): started_at, ended_at\n"
     ]
    },
    {
     "name": "stderr",
     "output_type": "stream",
     "text": [
      "\n",
      "\u001b[36mℹ\u001b[39m Use `spec()` to retrieve the full column specification for this data.\n",
      "\u001b[36mℹ\u001b[39m Specify the column types or set `show_col_types = FALSE` to quiet this message.\n"
     ]
    },
    {
     "name": "stderr",
     "output_type": "stream",
     "text": [
      "\u001b[1mRows: \u001b[22m\u001b[34m822410\u001b[39m \u001b[1mColumns: \u001b[22m\u001b[34m13\u001b[39m\n"
     ]
    },
    {
     "name": "stderr",
     "output_type": "stream",
     "text": [
      "\u001b[36m──\u001b[39m \u001b[1mColumn specification\u001b[22m \u001b[36m────────────────────────────────────────────────────────\u001b[39m\n",
      "\u001b[1mDelimiter:\u001b[22m \",\"\n",
      "\u001b[31mchr\u001b[39m  (7): ride_id, rideable_type, start_station_name, start_station_id, end_...\n",
      "\u001b[32mdbl\u001b[39m  (4): start_lat, start_lng, end_lat, end_lng\n",
      "\u001b[34mdttm\u001b[39m (2): started_at, ended_at\n"
     ]
    },
    {
     "name": "stderr",
     "output_type": "stream",
     "text": [
      "\n",
      "\u001b[36mℹ\u001b[39m Use `spec()` to retrieve the full column specification for this data.\n",
      "\u001b[36mℹ\u001b[39m Specify the column types or set `show_col_types = FALSE` to quiet this message.\n"
     ]
    },
    {
     "name": "stderr",
     "output_type": "stream",
     "text": [
      "\u001b[1mRows: \u001b[22m\u001b[34m804352\u001b[39m \u001b[1mColumns: \u001b[22m\u001b[34m13\u001b[39m\n"
     ]
    },
    {
     "name": "stderr",
     "output_type": "stream",
     "text": [
      "\u001b[36m──\u001b[39m \u001b[1mColumn specification\u001b[22m \u001b[36m────────────────────────────────────────────────────────\u001b[39m\n",
      "\u001b[1mDelimiter:\u001b[22m \",\"\n",
      "\u001b[31mchr\u001b[39m  (7): ride_id, rideable_type, start_station_name, start_station_id, end_...\n",
      "\u001b[32mdbl\u001b[39m  (4): start_lat, start_lng, end_lat, end_lng\n",
      "\u001b[34mdttm\u001b[39m (2): started_at, ended_at\n"
     ]
    },
    {
     "name": "stderr",
     "output_type": "stream",
     "text": [
      "\n",
      "\u001b[36mℹ\u001b[39m Use `spec()` to retrieve the full column specification for this data.\n",
      "\u001b[36mℹ\u001b[39m Specify the column types or set `show_col_types = FALSE` to quiet this message.\n"
     ]
    },
    {
     "name": "stderr",
     "output_type": "stream",
     "text": [
      "\u001b[1mRows: \u001b[22m\u001b[34m756147\u001b[39m \u001b[1mColumns: \u001b[22m\u001b[34m13\u001b[39m\n"
     ]
    },
    {
     "name": "stderr",
     "output_type": "stream",
     "text": [
      "\u001b[36m──\u001b[39m \u001b[1mColumn specification\u001b[22m \u001b[36m────────────────────────────────────────────────────────\u001b[39m\n",
      "\u001b[1mDelimiter:\u001b[22m \",\"\n",
      "\u001b[31mchr\u001b[39m  (7): ride_id, rideable_type, start_station_name, start_station_id, end_...\n",
      "\u001b[32mdbl\u001b[39m  (4): start_lat, start_lng, end_lat, end_lng\n",
      "\u001b[34mdttm\u001b[39m (2): started_at, ended_at\n"
     ]
    },
    {
     "name": "stderr",
     "output_type": "stream",
     "text": [
      "\n",
      "\u001b[36mℹ\u001b[39m Use `spec()` to retrieve the full column specification for this data.\n",
      "\u001b[36mℹ\u001b[39m Specify the column types or set `show_col_types = FALSE` to quiet this message.\n"
     ]
    },
    {
     "name": "stderr",
     "output_type": "stream",
     "text": [
      "\u001b[1mRows: \u001b[22m\u001b[34m631226\u001b[39m \u001b[1mColumns: \u001b[22m\u001b[34m13\u001b[39m\n"
     ]
    },
    {
     "name": "stderr",
     "output_type": "stream",
     "text": [
      "\u001b[36m──\u001b[39m \u001b[1mColumn specification\u001b[22m \u001b[36m────────────────────────────────────────────────────────\u001b[39m\n",
      "\u001b[1mDelimiter:\u001b[22m \",\"\n",
      "\u001b[31mchr\u001b[39m  (7): ride_id, rideable_type, start_station_name, start_station_id, end_...\n",
      "\u001b[32mdbl\u001b[39m  (4): start_lat, start_lng, end_lat, end_lng\n",
      "\u001b[34mdttm\u001b[39m (2): started_at, ended_at\n"
     ]
    },
    {
     "name": "stderr",
     "output_type": "stream",
     "text": [
      "\n",
      "\u001b[36mℹ\u001b[39m Use `spec()` to retrieve the full column specification for this data.\n",
      "\u001b[36mℹ\u001b[39m Specify the column types or set `show_col_types = FALSE` to quiet this message.\n"
     ]
    },
    {
     "name": "stderr",
     "output_type": "stream",
     "text": [
      "\u001b[1mRows: \u001b[22m\u001b[34m359978\u001b[39m \u001b[1mColumns: \u001b[22m\u001b[34m13\u001b[39m\n"
     ]
    },
    {
     "name": "stderr",
     "output_type": "stream",
     "text": [
      "\u001b[36m──\u001b[39m \u001b[1mColumn specification\u001b[22m \u001b[36m────────────────────────────────────────────────────────\u001b[39m\n",
      "\u001b[1mDelimiter:\u001b[22m \",\"\n",
      "\u001b[31mchr\u001b[39m  (7): ride_id, rideable_type, start_station_name, start_station_id, end_...\n",
      "\u001b[32mdbl\u001b[39m  (4): start_lat, start_lng, end_lat, end_lng\n",
      "\u001b[34mdttm\u001b[39m (2): started_at, ended_at\n"
     ]
    },
    {
     "name": "stderr",
     "output_type": "stream",
     "text": [
      "\n",
      "\u001b[36mℹ\u001b[39m Use `spec()` to retrieve the full column specification for this data.\n",
      "\u001b[36mℹ\u001b[39m Specify the column types or set `show_col_types = FALSE` to quiet this message.\n"
     ]
    },
    {
     "data": {
      "text/html": [
       "<table class=\"dataframe\">\n",
       "<caption>A tibble: 6 × 13</caption>\n",
       "<thead>\n",
       "\t<tr><th scope=col>ride_id</th><th scope=col>rideable_type</th><th scope=col>started_at</th><th scope=col>ended_at</th><th scope=col>start_station_name</th><th scope=col>start_station_id</th><th scope=col>end_station_name</th><th scope=col>end_station_id</th><th scope=col>start_lat</th><th scope=col>start_lng</th><th scope=col>end_lat</th><th scope=col>end_lng</th><th scope=col>member_casual</th></tr>\n",
       "\t<tr><th scope=col>&lt;chr&gt;</th><th scope=col>&lt;chr&gt;</th><th scope=col>&lt;dttm&gt;</th><th scope=col>&lt;dttm&gt;</th><th scope=col>&lt;chr&gt;</th><th scope=col>&lt;chr&gt;</th><th scope=col>&lt;chr&gt;</th><th scope=col>&lt;chr&gt;</th><th scope=col>&lt;dbl&gt;</th><th scope=col>&lt;dbl&gt;</th><th scope=col>&lt;dbl&gt;</th><th scope=col>&lt;dbl&gt;</th><th scope=col>&lt;chr&gt;</th></tr>\n",
       "</thead>\n",
       "<tbody>\n",
       "\t<tr><td>70B6A9A437D4C30D</td><td>classic_bike </td><td>2020-12-27 12:44:29</td><td>2020-12-27 12:55:06</td><td>Aberdeen St &amp; Jackson Blvd</td><td>13157</td><td>Desplaines St &amp; Kinzie St</td><td>TA1306000003</td><td>41.87773</td><td>-87.65479</td><td>41.88872</td><td>-87.64445</td><td>member</td></tr>\n",
       "\t<tr><td>158A465D4E74C54A</td><td>electric_bike</td><td>2020-12-18 17:37:15</td><td>2020-12-18 17:44:19</td><td>NA                        </td><td>NA   </td><td>NA                       </td><td>NA          </td><td>41.93000</td><td>-87.70000</td><td>41.91000</td><td>-87.70000</td><td>member</td></tr>\n",
       "\t<tr><td>5262016E0F1F2F9A</td><td>electric_bike</td><td>2020-12-15 15:04:33</td><td>2020-12-15 15:11:28</td><td>NA                        </td><td>NA   </td><td>NA                       </td><td>NA          </td><td>41.91000</td><td>-87.69000</td><td>41.93000</td><td>-87.70000</td><td>member</td></tr>\n",
       "\t<tr><td>BE119628E44F871E</td><td>electric_bike</td><td>2020-12-15 15:54:18</td><td>2020-12-15 16:00:11</td><td>NA                        </td><td>NA   </td><td>NA                       </td><td>NA          </td><td>41.92000</td><td>-87.70000</td><td>41.91000</td><td>-87.70000</td><td>member</td></tr>\n",
       "\t<tr><td>69AF78D57854E110</td><td>electric_bike</td><td>2020-12-22 12:08:17</td><td>2020-12-22 12:10:59</td><td>NA                        </td><td>NA   </td><td>NA                       </td><td>NA          </td><td>41.80000</td><td>-87.59000</td><td>41.80000</td><td>-87.59000</td><td>member</td></tr>\n",
       "\t<tr><td>C1DECC4AB488831C</td><td>electric_bike</td><td>2020-12-22 13:26:37</td><td>2020-12-22 13:34:50</td><td>NA                        </td><td>NA   </td><td>NA                       </td><td>NA          </td><td>41.80000</td><td>-87.59000</td><td>41.78000</td><td>-87.60000</td><td>member</td></tr>\n",
       "</tbody>\n",
       "</table>\n"
      ],
      "text/latex": [
       "A tibble: 6 × 13\n",
       "\\begin{tabular}{lllllllllllll}\n",
       " ride\\_id & rideable\\_type & started\\_at & ended\\_at & start\\_station\\_name & start\\_station\\_id & end\\_station\\_name & end\\_station\\_id & start\\_lat & start\\_lng & end\\_lat & end\\_lng & member\\_casual\\\\\n",
       " <chr> & <chr> & <dttm> & <dttm> & <chr> & <chr> & <chr> & <chr> & <dbl> & <dbl> & <dbl> & <dbl> & <chr>\\\\\n",
       "\\hline\n",
       "\t 70B6A9A437D4C30D & classic\\_bike  & 2020-12-27 12:44:29 & 2020-12-27 12:55:06 & Aberdeen St \\& Jackson Blvd & 13157 & Desplaines St \\& Kinzie St & TA1306000003 & 41.87773 & -87.65479 & 41.88872 & -87.64445 & member\\\\\n",
       "\t 158A465D4E74C54A & electric\\_bike & 2020-12-18 17:37:15 & 2020-12-18 17:44:19 & NA                         & NA    & NA                        & NA           & 41.93000 & -87.70000 & 41.91000 & -87.70000 & member\\\\\n",
       "\t 5262016E0F1F2F9A & electric\\_bike & 2020-12-15 15:04:33 & 2020-12-15 15:11:28 & NA                         & NA    & NA                        & NA           & 41.91000 & -87.69000 & 41.93000 & -87.70000 & member\\\\\n",
       "\t BE119628E44F871E & electric\\_bike & 2020-12-15 15:54:18 & 2020-12-15 16:00:11 & NA                         & NA    & NA                        & NA           & 41.92000 & -87.70000 & 41.91000 & -87.70000 & member\\\\\n",
       "\t 69AF78D57854E110 & electric\\_bike & 2020-12-22 12:08:17 & 2020-12-22 12:10:59 & NA                         & NA    & NA                        & NA           & 41.80000 & -87.59000 & 41.80000 & -87.59000 & member\\\\\n",
       "\t C1DECC4AB488831C & electric\\_bike & 2020-12-22 13:26:37 & 2020-12-22 13:34:50 & NA                         & NA    & NA                        & NA           & 41.80000 & -87.59000 & 41.78000 & -87.60000 & member\\\\\n",
       "\\end{tabular}\n"
      ],
      "text/markdown": [
       "\n",
       "A tibble: 6 × 13\n",
       "\n",
       "| ride_id &lt;chr&gt; | rideable_type &lt;chr&gt; | started_at &lt;dttm&gt; | ended_at &lt;dttm&gt; | start_station_name &lt;chr&gt; | start_station_id &lt;chr&gt; | end_station_name &lt;chr&gt; | end_station_id &lt;chr&gt; | start_lat &lt;dbl&gt; | start_lng &lt;dbl&gt; | end_lat &lt;dbl&gt; | end_lng &lt;dbl&gt; | member_casual &lt;chr&gt; |\n",
       "|---|---|---|---|---|---|---|---|---|---|---|---|---|\n",
       "| 70B6A9A437D4C30D | classic_bike  | 2020-12-27 12:44:29 | 2020-12-27 12:55:06 | Aberdeen St &amp; Jackson Blvd | 13157 | Desplaines St &amp; Kinzie St | TA1306000003 | 41.87773 | -87.65479 | 41.88872 | -87.64445 | member |\n",
       "| 158A465D4E74C54A | electric_bike | 2020-12-18 17:37:15 | 2020-12-18 17:44:19 | NA                         | NA    | NA                        | NA           | 41.93000 | -87.70000 | 41.91000 | -87.70000 | member |\n",
       "| 5262016E0F1F2F9A | electric_bike | 2020-12-15 15:04:33 | 2020-12-15 15:11:28 | NA                         | NA    | NA                        | NA           | 41.91000 | -87.69000 | 41.93000 | -87.70000 | member |\n",
       "| BE119628E44F871E | electric_bike | 2020-12-15 15:54:18 | 2020-12-15 16:00:11 | NA                         | NA    | NA                        | NA           | 41.92000 | -87.70000 | 41.91000 | -87.70000 | member |\n",
       "| 69AF78D57854E110 | electric_bike | 2020-12-22 12:08:17 | 2020-12-22 12:10:59 | NA                         | NA    | NA                        | NA           | 41.80000 | -87.59000 | 41.80000 | -87.59000 | member |\n",
       "| C1DECC4AB488831C | electric_bike | 2020-12-22 13:26:37 | 2020-12-22 13:34:50 | NA                         | NA    | NA                        | NA           | 41.80000 | -87.59000 | 41.78000 | -87.60000 | member |\n",
       "\n"
      ],
      "text/plain": [
       "  ride_id          rideable_type started_at          ended_at           \n",
       "1 70B6A9A437D4C30D classic_bike  2020-12-27 12:44:29 2020-12-27 12:55:06\n",
       "2 158A465D4E74C54A electric_bike 2020-12-18 17:37:15 2020-12-18 17:44:19\n",
       "3 5262016E0F1F2F9A electric_bike 2020-12-15 15:04:33 2020-12-15 15:11:28\n",
       "4 BE119628E44F871E electric_bike 2020-12-15 15:54:18 2020-12-15 16:00:11\n",
       "5 69AF78D57854E110 electric_bike 2020-12-22 12:08:17 2020-12-22 12:10:59\n",
       "6 C1DECC4AB488831C electric_bike 2020-12-22 13:26:37 2020-12-22 13:34:50\n",
       "  start_station_name         start_station_id end_station_name         \n",
       "1 Aberdeen St & Jackson Blvd 13157            Desplaines St & Kinzie St\n",
       "2 NA                         NA               NA                       \n",
       "3 NA                         NA               NA                       \n",
       "4 NA                         NA               NA                       \n",
       "5 NA                         NA               NA                       \n",
       "6 NA                         NA               NA                       \n",
       "  end_station_id start_lat start_lng end_lat  end_lng   member_casual\n",
       "1 TA1306000003   41.87773  -87.65479 41.88872 -87.64445 member       \n",
       "2 NA             41.93000  -87.70000 41.91000 -87.70000 member       \n",
       "3 NA             41.91000  -87.69000 41.93000 -87.70000 member       \n",
       "4 NA             41.92000  -87.70000 41.91000 -87.70000 member       \n",
       "5 NA             41.80000  -87.59000 41.80000 -87.59000 member       \n",
       "6 NA             41.80000  -87.59000 41.78000 -87.60000 member       "
      ]
     },
     "metadata": {},
     "output_type": "display_data"
    }
   ],
   "source": [
    "# Load required packages\n",
    "library(tidyverse)\n",
    "library(janitor)\n",
    "\n",
    "# List all CSV file paths from the dataset\n",
    "file_paths <- list.files(path = \"/kaggle/input/divvy-bike-share-2021-csvs\", pattern = \"*.csv\", full.names = TRUE)\n",
    "\n",
    "# Read and merge them into one dataframe\n",
    "all_trips <- file_paths %>%\n",
    "  map_df(~ read_csv(.x) %>% clean_names())\n",
    "\n",
    "# Preview the merged dataset\n",
    "head(all_trips)\n"
   ]
  },
  {
   "cell_type": "code",
   "execution_count": 2,
   "id": "344ea8af",
   "metadata": {
    "execution": {
     "iopub.execute_input": "2025-06-13T00:11:39.465046Z",
     "iopub.status.busy": "2025-06-13T00:11:39.430400Z",
     "iopub.status.idle": "2025-06-13T00:13:13.030883Z",
     "shell.execute_reply": "2025-06-13T00:13:13.028613Z"
    },
    "papermill": {
     "duration": 93.613812,
     "end_time": "2025-06-13T00:13:13.035708",
     "exception": false,
     "start_time": "2025-06-13T00:11:39.421896",
     "status": "completed"
    },
    "tags": []
   },
   "outputs": [],
   "source": [
    "library(lubridate)\n",
    "\n",
    "# Convert and clean timestamps\n",
    "all_trips_cleaned <- all_trips %>%\n",
    "  mutate(\n",
    "    started_at = suppressWarnings(ymd_hms(started_at)),\n",
    "    ended_at = suppressWarnings(ymd_hms(ended_at))\n",
    "  ) %>%\n",
    "  filter(!is.na(started_at), !is.na(ended_at)) %>%\n",
    "  mutate(\n",
    "    ride_length = as.numeric(difftime(ended_at, started_at, units = \"mins\"))\n",
    "  ) %>%\n",
    "  filter(ride_length > 0, ride_length < 1440)  # remove invalid durations\n"
   ]
  },
  {
   "cell_type": "code",
   "execution_count": 3,
   "id": "a0a017b6",
   "metadata": {
    "execution": {
     "iopub.execute_input": "2025-06-13T00:13:13.056945Z",
     "iopub.status.busy": "2025-06-13T00:13:13.055152Z",
     "iopub.status.idle": "2025-06-13T00:13:28.471484Z",
     "shell.execute_reply": "2025-06-13T00:13:28.469158Z"
    },
    "papermill": {
     "duration": 15.428351,
     "end_time": "2025-06-13T00:13:28.475035",
     "exception": false,
     "start_time": "2025-06-13T00:13:13.046684",
     "status": "completed"
    },
    "tags": []
   },
   "outputs": [],
   "source": [
    "# Add day of week, month, and hour\n",
    "all_trips_cleaned <- all_trips_cleaned %>%\n",
    "  mutate(\n",
    "    day_of_week = wday(started_at, label = TRUE),   # e.g., Mon, Tue, etc.\n",
    "    month = month(started_at, label = TRUE),        # e.g., Jan, Feb\n",
    "    hour = hour(started_at)                         # hour of the day (0–23)\n",
    "  )\n"
   ]
  },
  {
   "cell_type": "code",
   "execution_count": 4,
   "id": "dc895b93",
   "metadata": {
    "execution": {
     "iopub.execute_input": "2025-06-13T00:13:28.490672Z",
     "iopub.status.busy": "2025-06-13T00:13:28.488903Z",
     "iopub.status.idle": "2025-06-13T00:13:29.417183Z",
     "shell.execute_reply": "2025-06-13T00:13:29.414952Z"
    },
    "papermill": {
     "duration": 0.940179,
     "end_time": "2025-06-13T00:13:29.420579",
     "exception": false,
     "start_time": "2025-06-13T00:13:28.480400",
     "status": "completed"
    },
    "tags": []
   },
   "outputs": [
    {
     "data": {
      "image/png": "[encoded data removed]"
     },
     "metadata": {
      "image/png": {
       "height": 420,
       "width": 420
      }
     },
     "output_type": "display_data"
    }
   ],
   "source": [
    "# Compare average ride duration\n",
    "all_trips_cleaned %>%\n",
    "  group_by(member_casual) %>%\n",
    "  summarise(avg_ride = mean(ride_length)) %>%\n",
    "  ggplot(aes(x = member_casual, y = avg_ride, fill = member_casual)) +\n",
    "  geom_col() +\n",
    "  labs(title = \"Average Ride Length by Rider Type\", y = \"Minutes\") +\n",
    "  theme_minimal()\n"
   ]
  },
  {
   "cell_type": "code",
   "execution_count": 5,
   "id": "df352d79",
   "metadata": {
    "execution": {
     "iopub.execute_input": "2025-06-13T00:13:29.437924Z",
     "iopub.status.busy": "2025-06-13T00:13:29.435711Z",
     "iopub.status.idle": "2025-06-13T00:13:30.268008Z",
     "shell.execute_reply": "2025-06-13T00:13:30.265815Z"
    },
    "papermill": {
     "duration": 0.843983,
     "end_time": "2025-06-13T00:13:30.271087",
     "exception": false,
     "start_time": "2025-06-13T00:13:29.427104",
     "status": "completed"
    },
    "tags": []
   },
   "outputs": [
    {
     "name": "stderr",
     "output_type": "stream",
     "text": [
      "\u001b[1m\u001b[22m`summarise()` has grouped output by 'day_of_week'. You can override using the\n",
      "`.groups` argument.\n"
     ]
    },
    {
     "data": {
      "image/png": "[encoded data removed]"
     },
     "metadata": {
      "image/png": {
       "height": 420,
       "width": 420
      }
     },
     "output_type": "display_data"
    }
   ],
   "source": [
    "# Number of rides by day of the week\n",
    "all_trips_cleaned %>%\n",
    "  group_by(day_of_week, member_casual) %>%\n",
    "  summarise(total_rides = n()) %>%\n",
    "  ggplot(aes(x = day_of_week, y = total_rides, fill = member_casual)) +\n",
    "  geom_col(position = \"dodge\") +\n",
    "  labs(title = \"Rides per Day by Rider Type\", x = \"Day\", y = \"Ride Count\") +\n",
    "  theme_minimal()\n"
   ]
  },
  {
   "cell_type": "code",
   "execution_count": 6,
   "id": "561f49e0",
   "metadata": {
    "execution": {
     "iopub.execute_input": "2025-06-13T00:13:30.289854Z",
     "iopub.status.busy": "2025-06-13T00:13:30.288079Z",
     "iopub.status.idle": "2025-06-13T00:13:30.964155Z",
     "shell.execute_reply": "2025-06-13T00:13:30.961199Z"
    },
    "papermill": {
     "duration": 0.688886,
     "end_time": "2025-06-13T00:13:30.967714",
     "exception": false,
     "start_time": "2025-06-13T00:13:30.278828",
     "status": "completed"
    },
    "tags": []
   },
   "outputs": [
    {
     "name": "stderr",
     "output_type": "stream",
     "text": [
      "\u001b[1m\u001b[22m`summarise()` has grouped output by 'hour'. You can override using the\n",
      "`.groups` argument.\n"
     ]
    },
    {
     "data": {
      "image/png": "[encoded data removed]"
     },
     "metadata": {
      "image/png": {
       "height": 420,
       "width": 420
      }
     },
     "output_type": "display_data"
    }
   ],
   "source": [
    "# Ride distribution by hour\n",
    "all_trips_cleaned %>%\n",
    "  group_by(hour, member_casual) %>%\n",
    "  summarise(rides = n()) %>%\n",
    "  ggplot(aes(x = hour, y = rides, fill = member_casual)) +\n",
    "  geom_col(position = \"dodge\") +\n",
    "  labs(title = \"Rides by Hour of Day\", x = \"Hour\", y = \"Ride Count\") +\n",
    "  theme_minimal()\n"
   ]
  },
  {
   "cell_type": "markdown",
   "id": "951e766a",
   "metadata": {
    "papermill": {
     "duration": 0.007814,
     "end_time": "2025-06-13T00:13:30.982601",
     "exception": false,
     "start_time": "2025-06-13T00:13:30.974787",
     "status": "completed"
    },
    "tags": []
   },
   "source": [
    "# 📊 Key Insights from Divvy Bike Share Analysis (2021)\n",
    "\n",
    "✅ **Average Ride Duration:**\n",
    "- Casual riders take longer rides than members.\n",
    "\n",
    "✅ **Day of Week Trends:**\n",
    "- Casual users ride more on weekends.\n",
    "- Members ride more on weekdays, indicating commute-related use.\n",
    "\n",
    "✅ **Hour of Day Patterns:**\n",
    "- Casual rides peak around midday and evenings.\n",
    "- Member rides spike around 8 AM and 5 PM (commute hours).\n",
    "\n",
    "🎯 **Business Recommendations:**\n",
    "- Promote casual ride offers during weekends and holidays.\n",
    "- Improve user retention by offering trial memberships to casual users.\n",
    "- Offer loyalty discounts to members for weekday commute usage.\n"
   ]
  }
 ],
 "metadata": {
  "kaggle": {
   "accelerator": "none",
   "dataSources": [
    {
     "datasetId": 7650952,
     "sourceId": 12147896,
     "sourceType": "datasetVersion"
    }
   ],
   "dockerImageVersionId": 30749,
   "isGpuEnabled": false,
   "isInternetEnabled": false,
   "language": "r",
   "sourceType": "notebook"
  },
  "kernelspec": {
   "display_name": "R",
   "language": "R",
   "name": "ir"
  },
  "language_info": {
   "codemirror_mode": "r",
   "file_extension": ".r",
   "mimetype": "text/x-r-source",
   "name": "R",
   "pygments_lexer": "r",
   "version": "4.4.0"
  },
  "papermill": {
   "default_parameters": {},
   "duration": 161.826483,
   "end_time": "2025-06-13T00:13:31.517784",
   "environment_variables": {},
   "exception": null,
   "input_path": "__notebook__.ipynb",
   "output_path": "__notebook__.ipynb",
   "parameters": {},
   "start_time": "2025-06-13T00:10:49.691301",
   "version": "2.6.0"
  }
 },
 "nbformat": 4,
 "nbformat_minor": 5
}
